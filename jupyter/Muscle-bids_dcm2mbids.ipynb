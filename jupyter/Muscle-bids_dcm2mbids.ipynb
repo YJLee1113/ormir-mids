{
  "cells": [
    {
      "cell_type": "markdown",
      "id": "6cce1bbf-5964-4912-a4d1-e1203950122a",
      "metadata": {
        "id": "6cce1bbf-5964-4912-a4d1-e1203950122a"
      },
      "source": [
        "# Muscle-bids: dcm2mbids\n",
        "\n",
        "By Donnie Cameron, Leonardo Barzaghi, Judith Cueto Fernandez, Jilmen Quintiens, Francesco Santini, 2022  \n",
        "Notebook license: CC-BY\n",
        "Code license: GPL v3\n",
        "\n",
        "---"
      ]
    },
    {
      "cell_type": "markdown",
      "id": "dbee1a23-50eb-472d-b0ff-e23ac00eb22c",
      "metadata": {
        "id": "dbee1a23-50eb-472d-b0ff-e23ac00eb22c"
      },
      "source": [
        "## Package description\n",
        "\n",
        "The [muscle-bids package](https://github.com/muscle-bids/muscle-bids/tree/Jupyter) converts traditional MRI data in DICOM format into a [BIDS](https://bids.neuroimaging.io/)-compatible structure. It can be ran as a standalone executable or called within Python scripts as a library.\n"
      ]
    },
    {
      "cell_type": "markdown",
      "id": "3d803da6-e053-48c5-b74e-e8a6ca45fe7b",
      "metadata": {
        "id": "3d803da6-e053-48c5-b74e-e8a6ca45fe7b"
      },
      "source": [
        "## Dependencies and installation\n",
        "\n",
        "Before using this package, make sure that the packages below are installed in your environment:   \n",
        "        - [Python 3](https://www.python.org/downloads/)  \n",
        "        - [Bidict](https://pypi.org/project/bidict/)\n",
        "        - [H5py](https://www.h5py.org/)  \n",
        "        - [Natsort](https://pypi.org/project/natsort/)  \n",
        "        - [NiBabel](https://nipy.org/nibabel/)  \n",
        "        - [NumPy](https://numpy.org/)  \n",
        "        - [SciPy](https://scipy.org/)  \n",
        "        - [Pandas](https://pandas.pydata.org/)  \n",
        "        - [Pydicom](https://pydicom.github.io/)  \n",
        "        - [Pyparsing](https://github.com/pyparsing/pyparsing)  \n",
        "        - [Python-dateutil](https://pypi.org/project/python-dateutil/)  \n",
        "        - [Pytz](https://pypi.org/project/pytz/)  \n",
        "        - [Six](https://pypi.org/project/six/)  \n",
        "        - [Tqdm](https://tqdm.github.io/)  \n",
        "        - [SimpleITK](https://simpleitk.org/)  \n",
        "        - [CuPy](https://cupy.dev/)  \n",
        "          \n",
        "To install the muscle-bids package, run the code below:"
      ]
    },
    {
      "cell_type": "markdown",
      "source": [
        "First, we clone the git repository:"
      ],
      "metadata": {
        "id": "1ez9P2peUcj2"
      },
      "id": "1ez9P2peUcj2"
    },
    {
      "cell_type": "code",
      "source": [
        "!git clone https://github.com/muscle-bids/muscle-bids.git"
      ],
      "metadata": {
        "id": "06LJXDhkMuAI"
      },
      "id": "06LJXDhkMuAI",
      "execution_count": null,
      "outputs": []
    },
    {
      "cell_type": "markdown",
      "source": [
        "Now we can install the package using pip. This will also install the required dependencies."
      ],
      "metadata": {
        "id": "12lJxhKEUjcH"
      },
      "id": "12lJxhKEUjcH"
    },
    {
      "cell_type": "code",
      "source": [
        "%cd muscle-bids\n",
        "!pip install .\n",
        "!pip install --upgrade nibabel # the default nibabel has bugs"
      ],
      "metadata": {
        "id": "-hbAjx-uNW2e"
      },
      "id": "-hbAjx-uNW2e",
      "execution_count": null,
      "outputs": []
    },
    {
      "cell_type": "markdown",
      "source": [
        "The package is now ready to be used! Lets decompress the example files."
      ],
      "metadata": {
        "id": "J4tJagweUrAg"
      },
      "id": "J4tJagweUrAg"
    },
    {
      "cell_type": "code",
      "execution_count": null,
      "id": "a46e4cb1-75d9-4ae7-bdd7-9bc8123ad334",
      "metadata": {
        "id": "a46e4cb1-75d9-4ae7-bdd7-9bc8123ad334"
      },
      "outputs": [],
      "source": [
        "!unzip dicom.zip"
      ]
    },
    {
      "cell_type": "markdown",
      "source": [
        "Let's have a look at what data are available. We'll use the linux package `tree` that allows us to display a nice directory structure."
      ],
      "metadata": {
        "id": "UCJ9D9uKU5Rc"
      },
      "id": "UCJ9D9uKU5Rc"
    },
    {
      "cell_type": "code",
      "source": [
        "!apt install tree"
      ],
      "metadata": {
        "id": "KBl74tsGYrWD"
      },
      "id": "KBl74tsGYrWD",
      "execution_count": null,
      "outputs": []
    },
    {
      "cell_type": "code",
      "source": [
        "!tree dicom"
      ],
      "metadata": {
        "id": "8J8pbxXWTjg_"
      },
      "id": "8J8pbxXWTjg_",
      "execution_count": null,
      "outputs": []
    },
    {
      "cell_type": "markdown",
      "source": [
        "These are some multi-echo gradient-echo data from GE, and some multi-echo spin-echo data from Philips.\n",
        "You can browse these files inside the dicom directory from the file explorer. You will notice that the GE files are multiple dcm files, whereas Philips is a single file containing a lot of data."
      ],
      "metadata": {
        "id": "YqrMAZxIU9oO"
      },
      "id": "YqrMAZxIU9oO"
    },
    {
      "cell_type": "markdown",
      "id": "a62ba6e4-7f01-48d5-ae7d-304c353ba1d8",
      "metadata": {
        "id": "a62ba6e4-7f01-48d5-ae7d-304c353ba1d8"
      },
      "source": [
        "You are now ready to start using the muscle-bids package to standardise your data according to BIDS!"
      ]
    },
    {
      "cell_type": "markdown",
      "id": "a0d240f4-7c7b-4d7a-9a74-1da33bad460e",
      "metadata": {
        "id": "a0d240f4-7c7b-4d7a-9a74-1da33bad460e"
      },
      "source": [
        "## Run as executable\n",
        "\n",
        "The Python package is set up in such a way that after installing you can use the code in your own code, and directly from the command line as well.\n",
        "\n",
        "The commandline script is called `dcm2mbids.exe` and is by default stored in the same folder of your python executable (and should be added to your system's PATH variable. \n",
        "\n",
        "Let's have a look at how we can call it.\n",
        "\n"
      ]
    },
    {
      "cell_type": "code",
      "source": [
        "!dcm2mbids -h"
      ],
      "metadata": {
        "id": "gHqAE5QWVvLT"
      },
      "id": "gHqAE5QWVvLT",
      "execution_count": null,
      "outputs": []
    },
    {
      "cell_type": "markdown",
      "source": [
        "In principle, everything should be automated and the program should be able to find out what the data are. Let's see what happens."
      ],
      "metadata": {
        "id": "KnEPprTsV1MU"
      },
      "id": "KnEPprTsV1MU"
    },
    {
      "cell_type": "code",
      "source": [
        "!dcm2mbids -a mypatient -r dicom bids_output"
      ],
      "metadata": {
        "id": "ZdXE9SGrWR5s"
      },
      "id": "ZdXE9SGrWR5s",
      "execution_count": null,
      "outputs": []
    },
    {
      "cell_type": "markdown",
      "source": [
        "Let's see what happened! There is a new directory called `bids_output`"
      ],
      "metadata": {
        "id": "6gHt7vJnZELE"
      },
      "id": "6gHt7vJnZELE"
    },
    {
      "cell_type": "code",
      "source": [
        "!tree bids_output"
      ],
      "metadata": {
        "id": "LQQC6mlmZLX0"
      },
      "id": "LQQC6mlmZLX0",
      "execution_count": null,
      "outputs": []
    },
    {
      "cell_type": "markdown",
      "source": [
        "Hopefully it worked! You can see that all the scans were sorted under `anat` for anatomical images and under `quant` for quantitative maps. All the maps and MESE images were compacted under a single Enhanced dicom file by the Philips scanner.\n",
        "\n",
        "Every dataset has a nii.gz file containing the image data, and a set of json files containing the headers. Specifically:\n",
        "\n",
        "\n",
        "*   The simple `.json` file contains useful information about the data\n",
        "*   The `_patient.json` file contains private patient data. Delete this file if you want to anonymize your data!\n",
        "*   The `_extra.json` file contains extra information that can be used to reconstruct the DICOM dataset from the BIDS data, so it can be stored again in the PACS.\n",
        "\n"
      ],
      "metadata": {
        "id": "jqxPHtZCZPSt"
      },
      "id": "jqxPHtZCZPSt"
    },
    {
      "cell_type": "markdown",
      "id": "44de8d8e-c130-4dd0-910e-ac834d01f327",
      "metadata": {
        "id": "44de8d8e-c130-4dd0-910e-ac834d01f327"
      },
      "source": [
        "  ## Use as python module\n",
        "\n",
        "\n",
        "\n"
      ]
    },
    {
      "cell_type": "markdown",
      "id": "c40cf6cc-ad0f-40f8-aa09-2e8e3a0c82b3",
      "metadata": {
        "id": "c40cf6cc-ad0f-40f8-aa09-2e8e3a0c82b3"
      },
      "source": [
        "The muscle-bids package can also be used as an imported module within your pythons scripts. Usually, when you program an image processing tool, you will want to use this particular BIDS format for input and output. You just need to point your Python script to the root folder of your patient information.\n",
        "\n",
        "For example, let's very simply load the multi-echo spin-echo dataset."
      ]
    },
    {
      "cell_type": "code",
      "execution_count": null,
      "id": "490781a9-6a14-4251-af89-90cff102cbc8",
      "metadata": {
        "id": "490781a9-6a14-4251-af89-90cff102cbc8"
      },
      "outputs": [],
      "source": [
        "from muscle_bids.utils.io import find_bids, load_bids\n",
        "import nibabel as nib \n",
        "\n",
        "BIDS_FOLDER = 'bids_output'\n",
        "\n",
        "mese_data_list = find_bids(BIDS_FOLDER, 'mese')\n",
        "\n",
        "print(mese_data_list)"
      ]
    },
    {
      "cell_type": "markdown",
      "id": "d23b4d23-3ba6-4c79-ae5c-c7e7853088b1",
      "metadata": {
        "id": "d23b4d23-3ba6-4c79-ae5c-c7e7853088b1"
      },
      "source": [
        "Good news! There is at least one bids dataset with MeSe data! We can load it:"
      ]
    },
    {
      "cell_type": "code",
      "execution_count": null,
      "id": "3d43cfc8-6667-4ab5-a147-db1578bc0e1f",
      "metadata": {
        "id": "3d43cfc8-6667-4ab5-a147-db1578bc0e1f"
      },
      "outputs": [],
      "source": [
        "bids_mese = load_bids(mese_data_list[0])\n",
        "nib.viewers.OrthoSlicer3D(bids_mese)\n"
      ]
    },
    {
      "cell_type": "markdown",
      "id": "d315d30c-071a-474d-93ec-354c838371aa",
      "metadata": {
        "id": "d315d30c-071a-474d-93ec-354c838371aa"
      },
      "source": [
        "The bids file also has three dictionaries associated to it:\n",
        "\n",
        "\n",
        "*   `bids_header`: containing relevant information\n",
        "*   `patient_header`: containing privacy-relevant information (missing if anonymized)\n",
        "*   `extra_header`: a dump of the other DICOM tags\n",
        "\n",
        "Let's have a look, for example, at the BIDS header.\n",
        "\n"
      ]
    },
    {
      "cell_type": "code",
      "source": [
        "bids_mese.bids_header"
      ],
      "metadata": {
        "id": "y2rHNaPDdNPV"
      },
      "id": "y2rHNaPDdNPV",
      "execution_count": null,
      "outputs": []
    },
    {
      "cell_type": "markdown",
      "source": [
        "Great! You can now use your data (accessible from `bids_mese.volume`) to do your elaboration. You can then save the output again as BIDS or as DICOM files."
      ],
      "metadata": {
        "id": "sc4IXXzkdXf2"
      },
      "id": "sc4IXXzkdXf2"
    },
    {
      "cell_type": "markdown",
      "source": [
        "# Coming soon\n",
        "\n",
        "*   Documentation of data manipulation options\n",
        "*   Documentation of the existing converters\n",
        "*   DICOM output\n",
        "\n"
      ],
      "metadata": {
        "id": "LzQM25OwdvYi"
      },
      "id": "LzQM25OwdvYi"
    }
  ],
  "metadata": {
    "kernelspec": {
      "display_name": "Python 3 (ipykernel)",
      "language": "python",
      "name": "python3"
    },
    "language_info": {
      "codemirror_mode": {
        "name": "ipython",
        "version": 3
      },
      "file_extension": ".py",
      "mimetype": "text/x-python",
      "name": "python",
      "nbconvert_exporter": "python",
      "pygments_lexer": "ipython3",
      "version": "3.9.7"
    },
    "colab": {
      "name": "Muscle-bids_dcm2mbids.ipynb",
      "provenance": []
    }
  },
  "nbformat": 4,
  "nbformat_minor": 5
}