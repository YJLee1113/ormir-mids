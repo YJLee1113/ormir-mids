{
 "cells": [
  {
   "cell_type": "markdown",
   "id": "6cce1bbf-5964-4912-a4d1-e1203950122a",
   "metadata": {},
   "source": [
    "# Muscle-bids: dcm2mbids\n",
    "\n",
    "By [ENTER DATA](ENTER DATA), 2022  \n",
    "Notebook license: ENTER DATA \n",
    "Code license: ENTER DATA\n",
    "\n",
    "---"
   ]
  },
  {
   "cell_type": "markdown",
   "id": "dbee1a23-50eb-472d-b0ff-e23ac00eb22c",
   "metadata": {},
   "source": [
    "## Package description\n",
    "\n",
    "The [muscle-bids package](https://github.com/fsantini/muscle-bids/tree/Jupyter) converts traditional MRI data in DICOM format into a [BIDS](https://bids.neuroimaging.io/)-compatible structure. It can be ran as a standalone executable or called within Python scripts as a library.\n"
   ]
  },
  {
   "cell_type": "markdown",
   "id": "3d803da6-e053-48c5-b74e-e8a6ca45fe7b",
   "metadata": {},
   "source": [
    "## Dependencies and installation\n",
    "\n",
    "Before using this package, make sure that the packages below are installed in your environment:   \n",
    "        - [Python 3](https://www.python.org/downloads/)  \n",
    "        - [Bidict](https://pypi.org/project/bidict/)\n",
    "        - [H5py](https://www.h5py.org/)  \n",
    "        - [Natsort](https://pypi.org/project/natsort/)  \n",
    "        - [NiBabel](https://nipy.org/nibabel/)  \n",
    "        - [NumPy](https://numpy.org/)  \n",
    "        - [SciPy](https://scipy.org/)  \n",
    "        - [Pandas](https://pandas.pydata.org/)  \n",
    "        - [Pydicom](https://pydicom.github.io/)  \n",
    "        - [Pyparsing](https://github.com/pyparsing/pyparsing)  \n",
    "        - [Python-dateutil](https://pypi.org/project/python-dateutil/)  \n",
    "        - [Pytz](https://pypi.org/project/pytz/)  \n",
    "        - [Six](https://pypi.org/project/six/)  \n",
    "        - [Tqdm](https://tqdm.github.io/)  \n",
    "        - [SimpleITK](https://simpleitk.org/)  \n",
    "        - [CuPy](https://cupy.dev/)  \n",
    "          \n",
    "To install the muscle-bids package, run the code below:"
   ]
  },
  {
   "cell_type": "code",
   "execution_count": null,
   "id": "a46e4cb1-75d9-4ae7-bdd7-9bc8123ad334",
   "metadata": {},
   "outputs": [],
   "source": [
    "pip install dist/muscle-bids-0.0.1.tar.gz"
   ]
  },
  {
   "cell_type": "markdown",
   "id": "a62ba6e4-7f01-48d5-ae7d-304c353ba1d8",
   "metadata": {},
   "source": [
    "You are now ready to start using the muscle-bids package to standardise your data according to BIDS!"
   ]
  },
  {
   "cell_type": "markdown",
   "id": "a0d240f4-7c7b-4d7a-9a74-1da33bad460e",
   "metadata": {},
   "source": [
    "## Run as executable\n",
    "\n",
    "The Python package is set up in such a way that after installing you can use the code in your own code, and directly from the command line as well.\n",
    "\n",
    "The commandline script is called 'dcm2mbids.exe' and is by default stored in the same folder of your python executable (and should be added to your system's PATH variable. \n",
    "\n",
    "> *Syntax: dcm2mbids link_to_dicom_folder link_to_output_folder*\n",
    "\n",
    "If no output folder exists, the program will create it.\n",
    "\n",
    "The folder with example files contains a Spin Echo MRI image. Open a command window with in the current directory and run following command:\n",
    "\n"
   ]
  },
  {
   "cell_type": "raw",
   "id": "3a008c9e-388c-41a2-8931-7929bd968f7c",
   "metadata": {},
   "source": [
    "dcm2mbids Example_Files\\MESE_Anon Example_Files\\output"
   ]
  },
  {
   "cell_type": "markdown",
   "id": "44de8d8e-c130-4dd0-910e-ac834d01f327",
   "metadata": {},
   "source": [
    "  ## Use as python module\n",
    "\n",
    "\n",
    "\n"
   ]
  },
  {
   "cell_type": "markdown",
   "id": "c40cf6cc-ad0f-40f8-aa09-2e8e3a0c82b3",
   "metadata": {},
   "source": [
    "The muscle-bids package can also be used as an imported module within your pythons scripts. The example below explains how to process your data in this way."
   ]
  },
  {
   "cell_type": "markdown",
   "id": "200fd4d5-e998-493c-b194-2399383d21fd",
   "metadata": {},
   "source": [
    "First, import all the necessary packages:"
   ]
  },
  {
   "cell_type": "code",
   "execution_count": null,
   "id": "490781a9-6a14-4251-af89-90cff102cbc8",
   "metadata": {},
   "outputs": [],
   "source": [
    "import os\n",
    "import sys\n",
    "\n",
    "from muscle_bids.dosma_io import MedicalVolume, DicomReader\n",
    "from muscle_bids.utils.headers import reduce\n",
    "from muscle_bids.utils.io import load_dicom, save_bids, load_bids, save_dicom\n",
    "\n",
    "import muscle_bids.converters"
   ]
  },
  {
   "cell_type": "markdown",
   "id": "d23b4d23-3ba6-4c79-ae5c-c7e7853088b1",
   "metadata": {},
   "source": [
    "Then, you will need to specify the directories for your input and output data:"
   ]
  },
  {
   "cell_type": "code",
   "execution_count": null,
   "id": "3d43cfc8-6667-4ab5-a147-db1578bc0e1f",
   "metadata": {},
   "outputs": [],
   "source": [
    "INPUT_FOLDER = '.\\MESE_Anon'\n",
    "OUTPUT = '.\\MESE_Nii\\test.nii.gz'"
   ]
  },
  {
   "cell_type": "markdown",
   "id": "d315d30c-071a-474d-93ec-354c838371aa",
   "metadata": {},
   "source": [
    "You can now load your DICOM images and save them as bids as in the example below:"
   ]
  },
  {
   "cell_type": "code",
   "execution_count": null,
   "id": "9c9dab61-1b05-42e9-b24d-1f172ef1d582",
   "metadata": {},
   "outputs": [],
   "source": [
    "med_volume = load_dicom(INPUT_FOLDER, 'EchoTime')\n",
    "print(med_volume.shape)\n",
    "save_bids(OUTPUT, med_volume)"
   ]
  }
 ],
 "metadata": {
  "kernelspec": {
   "display_name": "Python 3 (ipykernel)",
   "language": "python",
   "name": "python3"
  },
  "language_info": {
   "codemirror_mode": {
    "name": "ipython",
    "version": 3
   },
   "file_extension": ".py",
   "mimetype": "text/x-python",
   "name": "python",
   "nbconvert_exporter": "python",
   "pygments_lexer": "ipython3",
   "version": "3.9.7"
  }
 },
 "nbformat": 4,
 "nbformat_minor": 5
}
